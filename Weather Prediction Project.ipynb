{
 "cells": [
  {
   "cell_type": "code",
   "execution_count": 2,
   "id": "98ee2068-bd51-4273-842a-684b3f28af6d",
   "metadata": {},
   "outputs": [],
   "source": [
    "# import pandas for data cleaning\n",
    "\n",
    "import pandas as pd\n",
    "import numpy as np\n",
    "# load the datasets in the pandas dataframe\n",
    "\n",
    "df=pd.read_csv(\"weather_data 2.csv\")\n"
   ]
  },
  {
   "cell_type": "code",
   "execution_count": 3,
   "id": "b693ea9d-745d-49b0-b96d-37dfe2aab410",
   "metadata": {},
   "outputs": [
    {
     "data": {
      "text/html": [
       "<div>\n",
       "<style scoped>\n",
       "    .dataframe tbody tr th:only-of-type {\n",
       "        vertical-align: middle;\n",
       "    }\n",
       "\n",
       "    .dataframe tbody tr th {\n",
       "        vertical-align: top;\n",
       "    }\n",
       "\n",
       "    .dataframe thead th {\n",
       "        text-align: right;\n",
       "    }\n",
       "</style>\n",
       "<table border=\"1\" class=\"dataframe\">\n",
       "  <thead>\n",
       "    <tr style=\"text-align: right;\">\n",
       "      <th></th>\n",
       "      <th>Location</th>\n",
       "      <th>Date_Time</th>\n",
       "      <th>Temperature_C</th>\n",
       "      <th>Humidity_pct</th>\n",
       "      <th>Precipitation_mm</th>\n",
       "      <th>Wind_Speed_kmh</th>\n",
       "    </tr>\n",
       "  </thead>\n",
       "  <tbody>\n",
       "    <tr>\n",
       "      <th>0</th>\n",
       "      <td>San Diego</td>\n",
       "      <td>2024-01-14 21:12:46</td>\n",
       "      <td>10.683001</td>\n",
       "      <td>41.195754</td>\n",
       "      <td>4.020119</td>\n",
       "      <td>8.233540</td>\n",
       "    </tr>\n",
       "    <tr>\n",
       "      <th>1</th>\n",
       "      <td>San Diego</td>\n",
       "      <td>2024-05-17 15:22:10</td>\n",
       "      <td>8.734140</td>\n",
       "      <td>58.319107</td>\n",
       "      <td>9.111623</td>\n",
       "      <td>27.715161</td>\n",
       "    </tr>\n",
       "    <tr>\n",
       "      <th>2</th>\n",
       "      <td>San Diego</td>\n",
       "      <td>2024-05-11 09:30:59</td>\n",
       "      <td>11.632436</td>\n",
       "      <td>38.820175</td>\n",
       "      <td>4.607511</td>\n",
       "      <td>28.732951</td>\n",
       "    </tr>\n",
       "    <tr>\n",
       "      <th>3</th>\n",
       "      <td>Philadelphia</td>\n",
       "      <td>2024-02-26 17:32:39</td>\n",
       "      <td>-8.628976</td>\n",
       "      <td>54.074474</td>\n",
       "      <td>3.183720</td>\n",
       "      <td>26.367303</td>\n",
       "    </tr>\n",
       "    <tr>\n",
       "      <th>4</th>\n",
       "      <td>San Antonio</td>\n",
       "      <td>2024-04-29 13:23:51</td>\n",
       "      <td>39.808213</td>\n",
       "      <td>72.899908</td>\n",
       "      <td>9.598282</td>\n",
       "      <td>29.898622</td>\n",
       "    </tr>\n",
       "  </tbody>\n",
       "</table>\n",
       "</div>"
      ],
      "text/plain": [
       "       Location            Date_Time  Temperature_C  Humidity_pct  \\\n",
       "0     San Diego  2024-01-14 21:12:46      10.683001     41.195754   \n",
       "1     San Diego  2024-05-17 15:22:10       8.734140     58.319107   \n",
       "2     San Diego  2024-05-11 09:30:59      11.632436     38.820175   \n",
       "3  Philadelphia  2024-02-26 17:32:39      -8.628976     54.074474   \n",
       "4   San Antonio  2024-04-29 13:23:51      39.808213     72.899908   \n",
       "\n",
       "   Precipitation_mm  Wind_Speed_kmh  \n",
       "0          4.020119        8.233540  \n",
       "1          9.111623       27.715161  \n",
       "2          4.607511       28.732951  \n",
       "3          3.183720       26.367303  \n",
       "4          9.598282       29.898622  "
      ]
     },
     "execution_count": 3,
     "metadata": {},
     "output_type": "execute_result"
    }
   ],
   "source": [
    "df.head()"
   ]
  },
  {
   "cell_type": "code",
   "execution_count": 4,
   "id": "ba97d05d-99f3-4adc-92d2-d717c81f7cd9",
   "metadata": {},
   "outputs": [
    {
     "name": "stdout",
     "output_type": "stream",
     "text": [
      "<class 'pandas.core.frame.DataFrame'>\n",
      "RangeIndex: 1000000 entries, 0 to 999999\n",
      "Data columns (total 6 columns):\n",
      " #   Column            Non-Null Count    Dtype  \n",
      "---  ------            --------------    -----  \n",
      " 0   Location          1000000 non-null  object \n",
      " 1   Date_Time         1000000 non-null  object \n",
      " 2   Temperature_C     1000000 non-null  float64\n",
      " 3   Humidity_pct      1000000 non-null  float64\n",
      " 4   Precipitation_mm  1000000 non-null  float64\n",
      " 5   Wind_Speed_kmh    1000000 non-null  float64\n",
      "dtypes: float64(4), object(2)\n",
      "memory usage: 45.8+ MB\n",
      "None\n"
     ]
    }
   ],
   "source": [
    "print(df.info())"
   ]
  },
  {
   "cell_type": "code",
   "execution_count": 5,
   "id": "af77da5d-9894-4015-a790-4197186a6997",
   "metadata": {},
   "outputs": [
    {
     "name": "stdout",
     "output_type": "stream",
     "text": [
      "<class 'pandas.core.frame.DataFrame'>\n",
      "RangeIndex: 1000000 entries, 0 to 999999\n",
      "Data columns (total 6 columns):\n",
      " #   Column            Non-Null Count    Dtype  \n",
      "---  ------            --------------    -----  \n",
      " 0   Location          1000000 non-null  object \n",
      " 1   Date_Time         1000000 non-null  object \n",
      " 2   Temperature_C     1000000 non-null  float64\n",
      " 3   Humidity_pct      1000000 non-null  float64\n",
      " 4   Precipitation_mm  1000000 non-null  float64\n",
      " 5   Wind_Speed_kmh    1000000 non-null  float64\n",
      "dtypes: float64(4), object(2)\n",
      "memory usage: 45.8+ MB\n"
     ]
    }
   ],
   "source": [
    "df.info()"
   ]
  },
  {
   "cell_type": "code",
   "execution_count": 6,
   "id": "93fe7a1f-8438-4769-ad7a-4acb05d60f9d",
   "metadata": {},
   "outputs": [
    {
     "name": "stdout",
     "output_type": "stream",
     "text": [
      "Location            0\n",
      "Date_Time           0\n",
      "Temperature_C       0\n",
      "Humidity_pct        0\n",
      "Precipitation_mm    0\n",
      "Wind_Speed_kmh      0\n",
      "dtype: int64\n"
     ]
    }
   ],
   "source": [
    " # Shows the count of missing values in each column\n",
    "\n",
    "print(df.isnull().sum()) \n"
   ]
  },
  {
   "cell_type": "code",
   "execution_count": 7,
   "id": "b4ca6f61-8016-42f2-8944-389d8af9ccc7",
   "metadata": {},
   "outputs": [],
   "source": [
    "\n",
    "# Drops all rows with any missing values\n",
    "df.dropna(inplace=True) \n"
   ]
  },
  {
   "cell_type": "code",
   "execution_count": 8,
   "id": "9b5b8a4e-215d-45b0-9db9-cdf2b9c86f5c",
   "metadata": {},
   "outputs": [
    {
     "name": "stdout",
     "output_type": "stream",
     "text": [
      "0\n"
     ]
    }
   ],
   "source": [
    " # Counts the number of duplicate rows\n",
    "print(df.duplicated().sum()) "
   ]
  },
  {
   "cell_type": "code",
   "execution_count": 9,
   "id": "b766a424-a2eb-413c-a109-96ac9d6024fa",
   "metadata": {},
   "outputs": [],
   "source": [
    "df.drop_duplicates(inplace=True)  # Removes duplicate rows\n"
   ]
  },
  {
   "cell_type": "code",
   "execution_count": 10,
   "id": "d28b9513-8e32-4416-92f8-8589da2c3579",
   "metadata": {},
   "outputs": [
    {
     "name": "stdout",
     "output_type": "stream",
     "text": [
      "Index(['Location', 'Date_Time', 'Temperature_C', 'Humidity_pct',\n",
      "       'Precipitation_mm', 'Wind_Speed_kmh'],\n",
      "      dtype='object')\n"
     ]
    }
   ],
   "source": [
    "# TO check the columns name\n",
    "\n",
    "print(df.columns)"
   ]
  },
  {
   "cell_type": "code",
   "execution_count": 11,
   "id": "7c720959-10cc-4b86-980d-b8ec30c268a0",
   "metadata": {},
   "outputs": [],
   "source": [
    "from scipy import stats\n",
    " # Removes outliers based on Z-score\n",
    "df = df[(np.abs(stats.zscore(df['Temperature_C'])) < 3)] \n",
    "df = df[(np.abs(stats.zscore(df['Precipitation_mm'])) < 3)]\n",
    "df = df[(np.abs(stats.zscore(df['Wind_Speed_kmh'])) < 3)] \n"
   ]
  },
  {
   "cell_type": "code",
   "execution_count": 12,
   "id": "7bde8410-b868-4b1c-ae77-8a445092f1da",
   "metadata": {},
   "outputs": [
    {
     "data": {
      "text/html": [
       "<div>\n",
       "<style scoped>\n",
       "    .dataframe tbody tr th:only-of-type {\n",
       "        vertical-align: middle;\n",
       "    }\n",
       "\n",
       "    .dataframe tbody tr th {\n",
       "        vertical-align: top;\n",
       "    }\n",
       "\n",
       "    .dataframe thead th {\n",
       "        text-align: right;\n",
       "    }\n",
       "</style>\n",
       "<table border=\"1\" class=\"dataframe\">\n",
       "  <thead>\n",
       "    <tr style=\"text-align: right;\">\n",
       "      <th></th>\n",
       "      <th>Location</th>\n",
       "      <th>Date_Time</th>\n",
       "      <th>Temperature_C</th>\n",
       "      <th>Humidity_pct</th>\n",
       "      <th>Precipitation_mm</th>\n",
       "      <th>Wind_Speed_kmh</th>\n",
       "    </tr>\n",
       "  </thead>\n",
       "  <tbody>\n",
       "    <tr>\n",
       "      <th>0</th>\n",
       "      <td>San Diego</td>\n",
       "      <td>2024-01-14 21:12:46</td>\n",
       "      <td>10.683001</td>\n",
       "      <td>41.195754</td>\n",
       "      <td>4.020119</td>\n",
       "      <td>8.233540</td>\n",
       "    </tr>\n",
       "    <tr>\n",
       "      <th>1</th>\n",
       "      <td>San Diego</td>\n",
       "      <td>2024-05-17 15:22:10</td>\n",
       "      <td>8.734140</td>\n",
       "      <td>58.319107</td>\n",
       "      <td>9.111623</td>\n",
       "      <td>27.715161</td>\n",
       "    </tr>\n",
       "    <tr>\n",
       "      <th>2</th>\n",
       "      <td>San Diego</td>\n",
       "      <td>2024-05-11 09:30:59</td>\n",
       "      <td>11.632436</td>\n",
       "      <td>38.820175</td>\n",
       "      <td>4.607511</td>\n",
       "      <td>28.732951</td>\n",
       "    </tr>\n",
       "    <tr>\n",
       "      <th>3</th>\n",
       "      <td>Philadelphia</td>\n",
       "      <td>2024-02-26 17:32:39</td>\n",
       "      <td>-8.628976</td>\n",
       "      <td>54.074474</td>\n",
       "      <td>3.183720</td>\n",
       "      <td>26.367303</td>\n",
       "    </tr>\n",
       "    <tr>\n",
       "      <th>4</th>\n",
       "      <td>San Antonio</td>\n",
       "      <td>2024-04-29 13:23:51</td>\n",
       "      <td>39.808213</td>\n",
       "      <td>72.899908</td>\n",
       "      <td>9.598282</td>\n",
       "      <td>29.898622</td>\n",
       "    </tr>\n",
       "  </tbody>\n",
       "</table>\n",
       "</div>"
      ],
      "text/plain": [
       "       Location            Date_Time  Temperature_C  Humidity_pct  \\\n",
       "0     San Diego  2024-01-14 21:12:46      10.683001     41.195754   \n",
       "1     San Diego  2024-05-17 15:22:10       8.734140     58.319107   \n",
       "2     San Diego  2024-05-11 09:30:59      11.632436     38.820175   \n",
       "3  Philadelphia  2024-02-26 17:32:39      -8.628976     54.074474   \n",
       "4   San Antonio  2024-04-29 13:23:51      39.808213     72.899908   \n",
       "\n",
       "   Precipitation_mm  Wind_Speed_kmh  \n",
       "0          4.020119        8.233540  \n",
       "1          9.111623       27.715161  \n",
       "2          4.607511       28.732951  \n",
       "3          3.183720       26.367303  \n",
       "4          9.598282       29.898622  "
      ]
     },
     "execution_count": 12,
     "metadata": {},
     "output_type": "execute_result"
    }
   ],
   "source": [
    "df.head()"
   ]
  },
  {
   "cell_type": "code",
   "execution_count": 13,
   "id": "a2c863a7-5f52-414b-bbf6-6d146db7e5c0",
   "metadata": {},
   "outputs": [
    {
     "data": {
      "text/html": [
       "<div>\n",
       "<style scoped>\n",
       "    .dataframe tbody tr th:only-of-type {\n",
       "        vertical-align: middle;\n",
       "    }\n",
       "\n",
       "    .dataframe tbody tr th {\n",
       "        vertical-align: top;\n",
       "    }\n",
       "\n",
       "    .dataframe thead th {\n",
       "        text-align: right;\n",
       "    }\n",
       "</style>\n",
       "<table border=\"1\" class=\"dataframe\">\n",
       "  <thead>\n",
       "    <tr style=\"text-align: right;\">\n",
       "      <th></th>\n",
       "      <th>Location</th>\n",
       "      <th>Date_Time</th>\n",
       "      <th>Temperature_C</th>\n",
       "      <th>Humidity_pct</th>\n",
       "      <th>Precipitation_mm</th>\n",
       "      <th>Wind_Speed_kmh</th>\n",
       "    </tr>\n",
       "  </thead>\n",
       "  <tbody>\n",
       "    <tr>\n",
       "      <th>999995</th>\n",
       "      <td>Dallas</td>\n",
       "      <td>2024-01-01 20:29:48</td>\n",
       "      <td>23.416877</td>\n",
       "      <td>37.705024</td>\n",
       "      <td>3.819833</td>\n",
       "      <td>16.538119</td>\n",
       "    </tr>\n",
       "    <tr>\n",
       "      <th>999996</th>\n",
       "      <td>San Antonio</td>\n",
       "      <td>2024-01-20 15:59:48</td>\n",
       "      <td>6.759080</td>\n",
       "      <td>40.731036</td>\n",
       "      <td>8.182785</td>\n",
       "      <td>29.005558</td>\n",
       "    </tr>\n",
       "    <tr>\n",
       "      <th>999997</th>\n",
       "      <td>New York</td>\n",
       "      <td>2024-04-14 08:30:09</td>\n",
       "      <td>15.664465</td>\n",
       "      <td>62.201884</td>\n",
       "      <td>3.987558</td>\n",
       "      <td>0.403909</td>\n",
       "    </tr>\n",
       "    <tr>\n",
       "      <th>999998</th>\n",
       "      <td>Chicago</td>\n",
       "      <td>2024-05-12 20:10:43</td>\n",
       "      <td>18.999994</td>\n",
       "      <td>63.703245</td>\n",
       "      <td>4.294325</td>\n",
       "      <td>6.326036</td>\n",
       "    </tr>\n",
       "    <tr>\n",
       "      <th>999999</th>\n",
       "      <td>New York</td>\n",
       "      <td>2024-04-16 16:11:52</td>\n",
       "      <td>10.725351</td>\n",
       "      <td>43.804584</td>\n",
       "      <td>1.883292</td>\n",
       "      <td>15.363828</td>\n",
       "    </tr>\n",
       "  </tbody>\n",
       "</table>\n",
       "</div>"
      ],
      "text/plain": [
       "           Location            Date_Time  Temperature_C  Humidity_pct  \\\n",
       "999995       Dallas  2024-01-01 20:29:48      23.416877     37.705024   \n",
       "999996  San Antonio  2024-01-20 15:59:48       6.759080     40.731036   \n",
       "999997     New York  2024-04-14 08:30:09      15.664465     62.201884   \n",
       "999998      Chicago  2024-05-12 20:10:43      18.999994     63.703245   \n",
       "999999     New York  2024-04-16 16:11:52      10.725351     43.804584   \n",
       "\n",
       "        Precipitation_mm  Wind_Speed_kmh  \n",
       "999995          3.819833       16.538119  \n",
       "999996          8.182785       29.005558  \n",
       "999997          3.987558        0.403909  \n",
       "999998          4.294325        6.326036  \n",
       "999999          1.883292       15.363828  "
      ]
     },
     "execution_count": 13,
     "metadata": {},
     "output_type": "execute_result"
    }
   ],
   "source": [
    "df.tail()"
   ]
  },
  {
   "cell_type": "code",
   "execution_count": 14,
   "id": "f49b1014-7f50-4a3d-b90e-328c2493466f",
   "metadata": {},
   "outputs": [],
   "source": [
    "# Convert data types\n",
    "df['Date_Time'] = pd.to_datetime(df['Date_Time'])\n",
    "df['Temperature_C'] = df['Temperature_C'].astype(float)"
   ]
  },
  {
   "cell_type": "code",
   "execution_count": 15,
   "id": "57e8bfc7-adba-48cc-8dc0-5aae4e4789b4",
   "metadata": {},
   "outputs": [
    {
     "data": {
      "text/html": [
       "<div>\n",
       "<style scoped>\n",
       "    .dataframe tbody tr th:only-of-type {\n",
       "        vertical-align: middle;\n",
       "    }\n",
       "\n",
       "    .dataframe tbody tr th {\n",
       "        vertical-align: top;\n",
       "    }\n",
       "\n",
       "    .dataframe thead th {\n",
       "        text-align: right;\n",
       "    }\n",
       "</style>\n",
       "<table border=\"1\" class=\"dataframe\">\n",
       "  <thead>\n",
       "    <tr style=\"text-align: right;\">\n",
       "      <th></th>\n",
       "      <th>Location</th>\n",
       "      <th>Date_Time</th>\n",
       "      <th>Temperature_C</th>\n",
       "      <th>Humidity_pct</th>\n",
       "      <th>Precipitation_mm</th>\n",
       "      <th>Wind_Speed_kmh</th>\n",
       "    </tr>\n",
       "  </thead>\n",
       "  <tbody>\n",
       "    <tr>\n",
       "      <th>0</th>\n",
       "      <td>San Diego</td>\n",
       "      <td>2024-01-14 21:12:46</td>\n",
       "      <td>10.683001</td>\n",
       "      <td>41.195754</td>\n",
       "      <td>4.020119</td>\n",
       "      <td>8.233540</td>\n",
       "    </tr>\n",
       "    <tr>\n",
       "      <th>1</th>\n",
       "      <td>San Diego</td>\n",
       "      <td>2024-05-17 15:22:10</td>\n",
       "      <td>8.734140</td>\n",
       "      <td>58.319107</td>\n",
       "      <td>9.111623</td>\n",
       "      <td>27.715161</td>\n",
       "    </tr>\n",
       "    <tr>\n",
       "      <th>2</th>\n",
       "      <td>San Diego</td>\n",
       "      <td>2024-05-11 09:30:59</td>\n",
       "      <td>11.632436</td>\n",
       "      <td>38.820175</td>\n",
       "      <td>4.607511</td>\n",
       "      <td>28.732951</td>\n",
       "    </tr>\n",
       "    <tr>\n",
       "      <th>3</th>\n",
       "      <td>Philadelphia</td>\n",
       "      <td>2024-02-26 17:32:39</td>\n",
       "      <td>-8.628976</td>\n",
       "      <td>54.074474</td>\n",
       "      <td>3.183720</td>\n",
       "      <td>26.367303</td>\n",
       "    </tr>\n",
       "    <tr>\n",
       "      <th>4</th>\n",
       "      <td>San Antonio</td>\n",
       "      <td>2024-04-29 13:23:51</td>\n",
       "      <td>39.808213</td>\n",
       "      <td>72.899908</td>\n",
       "      <td>9.598282</td>\n",
       "      <td>29.898622</td>\n",
       "    </tr>\n",
       "  </tbody>\n",
       "</table>\n",
       "</div>"
      ],
      "text/plain": [
       "       Location           Date_Time  Temperature_C  Humidity_pct  \\\n",
       "0     San Diego 2024-01-14 21:12:46      10.683001     41.195754   \n",
       "1     San Diego 2024-05-17 15:22:10       8.734140     58.319107   \n",
       "2     San Diego 2024-05-11 09:30:59      11.632436     38.820175   \n",
       "3  Philadelphia 2024-02-26 17:32:39      -8.628976     54.074474   \n",
       "4   San Antonio 2024-04-29 13:23:51      39.808213     72.899908   \n",
       "\n",
       "   Precipitation_mm  Wind_Speed_kmh  \n",
       "0          4.020119        8.233540  \n",
       "1          9.111623       27.715161  \n",
       "2          4.607511       28.732951  \n",
       "3          3.183720       26.367303  \n",
       "4          9.598282       29.898622  "
      ]
     },
     "execution_count": 15,
     "metadata": {},
     "output_type": "execute_result"
    }
   ],
   "source": [
    "df.head()"
   ]
  },
  {
   "cell_type": "code",
   "execution_count": 16,
   "id": "404e2f6c-5b6a-4579-8ac2-ec683597c2a1",
   "metadata": {},
   "outputs": [],
   "source": [
    "# Save cleaned data\n",
    "df.to_csv('cleaned_dataset.csv', index=False)"
   ]
  },
  {
   "cell_type": "code",
   "execution_count": 17,
   "id": "2eb353da-bed5-4f80-b2bb-bbd0fd8c058c",
   "metadata": {},
   "outputs": [
    {
     "data": {
      "text/html": [
       "<div>\n",
       "<style scoped>\n",
       "    .dataframe tbody tr th:only-of-type {\n",
       "        vertical-align: middle;\n",
       "    }\n",
       "\n",
       "    .dataframe tbody tr th {\n",
       "        vertical-align: top;\n",
       "    }\n",
       "\n",
       "    .dataframe thead th {\n",
       "        text-align: right;\n",
       "    }\n",
       "</style>\n",
       "<table border=\"1\" class=\"dataframe\">\n",
       "  <thead>\n",
       "    <tr style=\"text-align: right;\">\n",
       "      <th></th>\n",
       "      <th>Date_Time</th>\n",
       "      <th>Temperature_C</th>\n",
       "      <th>Humidity_pct</th>\n",
       "      <th>Precipitation_mm</th>\n",
       "      <th>Wind_Speed_kmh</th>\n",
       "    </tr>\n",
       "  </thead>\n",
       "  <tbody>\n",
       "    <tr>\n",
       "      <th>count</th>\n",
       "      <td>999529</td>\n",
       "      <td>999529.000000</td>\n",
       "      <td>999529.000000</td>\n",
       "      <td>999529.000000</td>\n",
       "      <td>999529.000000</td>\n",
       "    </tr>\n",
       "    <tr>\n",
       "      <th>mean</th>\n",
       "      <td>2024-03-10 11:07:41.665202432</td>\n",
       "      <td>14.782048</td>\n",
       "      <td>60.021447</td>\n",
       "      <td>5.105311</td>\n",
       "      <td>14.997481</td>\n",
       "    </tr>\n",
       "    <tr>\n",
       "      <th>min</th>\n",
       "      <td>2024-01-01 00:00:06</td>\n",
       "      <td>-19.969311</td>\n",
       "      <td>30.000009</td>\n",
       "      <td>0.000009</td>\n",
       "      <td>0.000051</td>\n",
       "    </tr>\n",
       "    <tr>\n",
       "      <th>25%</th>\n",
       "      <td>2024-02-04 17:00:16</td>\n",
       "      <td>2.272007</td>\n",
       "      <td>45.008484</td>\n",
       "      <td>2.579683</td>\n",
       "      <td>7.489884</td>\n",
       "    </tr>\n",
       "    <tr>\n",
       "      <th>50%</th>\n",
       "      <td>2024-03-10 12:27:06</td>\n",
       "      <td>14.780838</td>\n",
       "      <td>60.018036</td>\n",
       "      <td>5.107270</td>\n",
       "      <td>14.993192</td>\n",
       "    </tr>\n",
       "    <tr>\n",
       "      <th>75%</th>\n",
       "      <td>2024-04-14 04:14:31</td>\n",
       "      <td>27.272987</td>\n",
       "      <td>75.043443</td>\n",
       "      <td>7.610271</td>\n",
       "      <td>22.514125</td>\n",
       "    </tr>\n",
       "    <tr>\n",
       "      <th>max</th>\n",
       "      <td>2024-05-18 19:44:10</td>\n",
       "      <td>39.999801</td>\n",
       "      <td>89.999977</td>\n",
       "      <td>13.951485</td>\n",
       "      <td>29.999973</td>\n",
       "    </tr>\n",
       "    <tr>\n",
       "      <th>std</th>\n",
       "      <td>NaN</td>\n",
       "      <td>14.481922</td>\n",
       "      <td>17.323915</td>\n",
       "      <td>2.941936</td>\n",
       "      <td>8.663602</td>\n",
       "    </tr>\n",
       "  </tbody>\n",
       "</table>\n",
       "</div>"
      ],
      "text/plain": [
       "                           Date_Time  Temperature_C   Humidity_pct  \\\n",
       "count                         999529  999529.000000  999529.000000   \n",
       "mean   2024-03-10 11:07:41.665202432      14.782048      60.021447   \n",
       "min              2024-01-01 00:00:06     -19.969311      30.000009   \n",
       "25%              2024-02-04 17:00:16       2.272007      45.008484   \n",
       "50%              2024-03-10 12:27:06      14.780838      60.018036   \n",
       "75%              2024-04-14 04:14:31      27.272987      75.043443   \n",
       "max              2024-05-18 19:44:10      39.999801      89.999977   \n",
       "std                              NaN      14.481922      17.323915   \n",
       "\n",
       "       Precipitation_mm  Wind_Speed_kmh  \n",
       "count     999529.000000   999529.000000  \n",
       "mean           5.105311       14.997481  \n",
       "min            0.000009        0.000051  \n",
       "25%            2.579683        7.489884  \n",
       "50%            5.107270       14.993192  \n",
       "75%            7.610271       22.514125  \n",
       "max           13.951485       29.999973  \n",
       "std            2.941936        8.663602  "
      ]
     },
     "execution_count": 17,
     "metadata": {},
     "output_type": "execute_result"
    }
   ],
   "source": [
    "df.describe()"
   ]
  },
  {
   "cell_type": "code",
   "execution_count": 18,
   "id": "1968e41d-2b8b-408e-921c-75055c43bd83",
   "metadata": {},
   "outputs": [],
   "source": [
    "from sklearn.model_selection import train_test_split\n",
    "from sklearn.linear_model import LinearRegression\n",
    "from sklearn.tree import DecisionTreeRegressor\n",
    "from sklearn.ensemble import RandomForestRegressor\n",
    "from sklearn.metrics import mean_squared_error, r2_score"
   ]
  },
  {
   "cell_type": "code",
   "execution_count": 19,
   "id": "3f0d13e1-e581-46ba-b04a-974596f17821",
   "metadata": {},
   "outputs": [],
   "source": [
    "import pandas as pd\n",
    "df = pd.read_csv('cleaned_dataset.csv')\n"
   ]
  },
  {
   "cell_type": "code",
   "execution_count": 20,
   "id": "fedd14b9-6840-4110-83e4-bc0068424a28",
   "metadata": {},
   "outputs": [],
   "source": [
    "# Features (Independent variables)\n",
    "X = df[['Humidity_pct', 'Wind_Speed_kmh', 'Precipitation_mm']]  # Update based on your dataset\n",
    "\n",
    "# Target (Dependent variable)\n",
    "y = df['Temperature_C']  # Update based on your dataset\n"
   ]
  },
  {
   "cell_type": "code",
   "execution_count": 21,
   "id": "297b7d00-0d43-417c-93b1-b7f6cb4c7b00",
   "metadata": {},
   "outputs": [],
   "source": [
    "# Split the data: 80% for training, 20% for testing\n",
    "X_train, X_test, y_train, y_test = train_test_split(X, y, test_size=0.2, random_state=42)\n"
   ]
  },
  {
   "cell_type": "code",
   "execution_count": 22,
   "id": "6079b98f-8bd0-48dc-a79f-eae4a71250a6",
   "metadata": {},
   "outputs": [
    {
     "name": "stdout",
     "output_type": "stream",
     "text": [
      "Mean Squared Error: 242.25984209162635\n",
      "R² Score: -0.15531587140396486\n"
     ]
    }
   ],
   "source": [
    "\n",
    "import pandas as pd\n",
    "from sklearn.model_selection import train_test_split\n",
    "from sklearn.ensemble import RandomForestRegressor\n",
    "from sklearn.metrics import mean_squared_error, r2_score\n",
    "from sklearn.preprocessing import StandardScaler\n",
    "\n",
    "\n",
    "# Initialize the Random Forest Regressor\n",
    "rf_model = RandomForestRegressor(n_estimators=10, random_state=42)\n",
    "\n",
    "# Train the model\n",
    "rf_model.fit(X_train, y_train)\n",
    "\n",
    "# Predict on the test set\n",
    "y_pred = rf_model.predict(X_test)\n",
    "\n",
    "# Evaluate the model\n",
    "mse = mean_squared_error(y_test, y_pred)\n",
    "r2 = r2_score(y_test, y_pred)\n",
    "\n",
    "print(f'Mean Squared Error: {mse}')\n",
    "print(f'R² Score: {r2}')\n"
   ]
  },
  {
   "cell_type": "markdown",
   "id": "170c7b3c",
   "metadata": {},
   "source": []
  },
  {
   "cell_type": "code",
   "execution_count": 25,
   "id": "a4d6ade4-97c1-4bba-9ba8-780d6c604018",
   "metadata": {},
   "outputs": [],
   "source": [
    "# Save the trained Random Forest model using pickle\n",
    "import pickle\n",
    "with open('random_forest_model.pkl', 'wb') as rf_file:\n",
    "    pickle.dump(rf_model, rf_file)\n"
   ]
  },
  {
   "cell_type": "code",
   "execution_count": null,
   "id": "96c8b114-b606-4245-b020-0fc368273838",
   "metadata": {},
   "outputs": [],
   "source": []
  }
 ],
 "metadata": {
  "kernelspec": {
   "display_name": "Python 3",
   "language": "python",
   "name": "python3"
  },
  "language_info": {
   "codemirror_mode": {
    "name": "ipython",
    "version": 3
   },
   "file_extension": ".py",
   "mimetype": "text/x-python",
   "name": "python",
   "nbconvert_exporter": "python",
   "pygments_lexer": "ipython3",
   "version": "3.12.5"
  }
 },
 "nbformat": 4,
 "nbformat_minor": 5
}
